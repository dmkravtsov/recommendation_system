{
 "cells": [
  {
   "cell_type": "markdown",
   "metadata": {},
   "source": [
    "# Blogger Clustering Project + LDA Model (explore the thematic structure of documents)"
   ]
  },
  {
   "cell_type": "markdown",
   "metadata": {},
   "source": [
    "2 datasets are available:\n",
    "\n",
    " - one describes the general characteristics of 107 bloggers\n",
    " - the second includes data about the publications of these bloggers\n",
    "\n",
    "**Task**: using the clustering method to select for further publication those bloggers who perform their work more actively and efficiently."
   ]
  },
  {
   "cell_type": "markdown",
   "metadata": {},
   "source": [
    "I'll start by importing all the libraries necessary for work"
   ]
  },
  {
   "cell_type": "code",
   "execution_count": 466,
   "metadata": {},
   "outputs": [
    {
     "name": "stderr",
     "output_type": "stream",
     "text": [
      "[nltk_data] Downloading package stopwords to\n",
      "[nltk_data]     C:\\Users\\Administrator\\AppData\\Roaming\\nltk_data...\n",
      "[nltk_data]   Package stopwords is already up-to-date!\n"
     ]
    }
   ],
   "source": [
    "# import of necessary libraries\n",
    "\n",
    "from yellowbrick.cluster import KElbowVisualizer\n",
    "import numpy as np\n",
    "import pandas as pd\n",
    "pd.plotting.register_matplotlib_converters()\n",
    "import matplotlib.pyplot as plt\n",
    "import seaborn as sns\n",
    "sns.set_style(\"darkgrid\")\n",
    "%matplotlib inline  \n",
    "from sklearn.preprocessing import StandardScaler\n",
    "from sklearn.cluster import KMeans\n",
    "from sklearn.metrics import silhouette_score\n",
    "import re\n",
    "import string\n",
    "import nltk\n",
    "nltk.download('stopwords')\n",
    "from nltk.corpus import stopwords\n",
    "from sklearn.feature_extraction.text import TfidfVectorizer\n",
    "from tqdm import tqdm\n",
    "from nltk.tokenize import word_tokenize\n",
    "from nltk.stem import WordNetLemmatizer\n",
    "stop_words = stopwords.words('english')\n",
    "more_stopwords = ['u', 'im', 'c']\n",
    "stop_words = stop_words + more_stopwords\n",
    "stemmer = nltk.SnowballStemmer(\"english\")\n",
    "wordnet_lemmatizer = WordNetLemmatizer()\n",
    "import gensim\n",
    "from gensim import corpora\n",
    "sns.set_theme(context='notebook', style='whitegrid', palette='deep', font='sans-serif', font_scale=1, color_codes=True, rc=None)\n"
   ]
  },
  {
   "cell_type": "markdown",
   "metadata": {},
   "source": [
    "I will also prepare some functions for converting text data"
   ]
  },
  {
   "cell_type": "code",
   "execution_count": 467,
   "metadata": {},
   "outputs": [],
   "source": [
    "# # useful modules\n",
    "def basic_details(df):\n",
    "    \"\"\"returns basic statistics for dataset - % of zero, nan and unique values\"\"\"\n",
    "    b = pd.DataFrame()\n",
    "    b['Missing value, %'] = round(df.isnull().sum()/df.shape[0]*100,4)\n",
    "    b['Zero value, %'] = round(df.isin([0]).sum() /df.shape[0]*100,4)\n",
    "    b['N unique value'] = df.nunique()\n",
    "    b['dtype'] = df.dtypes\n",
    "    return b\n",
    "\n",
    "def clean_text(text):\n",
    "    '''Make text lowercase, remove text in square brackets,remove links,remove punctuation\n",
    "    and remove words containing numbers.'''\n",
    "    text = str(text).lower()\n",
    "    text = re.sub('`\"\\[.*?\\]', '', text)\n",
    "    text = re.sub('https?://\\S+|www\\.\\S+', '', text)\n",
    "    text = re.sub('<.*?>+', '', text)\n",
    "    text = re.sub('[%s]' % re.escape(string.punctuation), '', text)\n",
    "    text = re.sub('\\n', '', text)\n",
    "    text = re.sub('\\w*\\d\\w*', '', text)\n",
    "    text = ' '.join(word for word in text.split(' ') if word not in stop_words)\n",
    "    text = ' '.join(wordnet_lemmatizer.lemmatize(word)  for word in text.split(' '))\n",
    "    text = word_tokenize(text)\n",
    "    return text\n",
    "\n",
    "def create_corpus(df):\n",
    "    '''text to tokens'''\n",
    "    corpus=[]\n",
    "    for tweet in tqdm(df.text_clean):\n",
    "        words=[word for word in word_tokenize(tweet)]\n",
    "        corpus.append(words)\n",
    "    return corpus"
   ]
  },
  {
   "cell_type": "markdown",
   "metadata": {},
   "source": [
    "Next, I will load the first dataset with general data about the authors and convert the names of the features"
   ]
  },
  {
   "cell_type": "code",
   "execution_count": 468,
   "metadata": {},
   "outputs": [
    {
     "data": {
      "text/html": [
       "<div>\n",
       "<style scoped>\n",
       "    .dataframe tbody tr th:only-of-type {\n",
       "        vertical-align: middle;\n",
       "    }\n",
       "\n",
       "    .dataframe tbody tr th {\n",
       "        vertical-align: top;\n",
       "    }\n",
       "\n",
       "    .dataframe thead th {\n",
       "        text-align: right;\n",
       "    }\n",
       "</style>\n",
       "<table border=\"1\" class=\"dataframe\">\n",
       "  <thead>\n",
       "    <tr style=\"text-align: right;\">\n",
       "      <th></th>\n",
       "      <th>Author ID</th>\n",
       "      <th>wordsNumNoStop</th>\n",
       "      <th>wordsNum</th>\n",
       "      <th>MEIBI</th>\n",
       "      <th>MEIBIX</th>\n",
       "    </tr>\n",
       "  </thead>\n",
       "  <tbody>\n",
       "    <tr>\n",
       "      <th>21</th>\n",
       "      <td>22</td>\n",
       "      <td>4.317936</td>\n",
       "      <td>5.921872</td>\n",
       "      <td>13</td>\n",
       "      <td>13</td>\n",
       "    </tr>\n",
       "  </tbody>\n",
       "</table>\n",
       "</div>"
      ],
      "text/plain": [
       "    Author ID  wordsNumNoStop  wordsNum  MEIBI  MEIBIX\n",
       "21         22        4.317936  5.921872     13      13"
      ]
     },
     "execution_count": 468,
     "metadata": {},
     "output_type": "execute_result"
    }
   ],
   "source": [
    "#load, clean, rename for autors file\n",
    "df = pd.read_csv('autors.csv') # 107 raws /6 cols\n",
    "df.rename(columns = {\"Average Number Of Words In Posts (without stopwords)\":'wordsNumNoStop',\"Average Number Of Words In Posts\":'wordsNum'}, inplace = True)\n",
    "usecols_autors = ['Author ID','wordsNumNoStop','wordsNum','MEIBI','MEIBIX'] \n",
    "df = df[usecols_autors]\n",
    "df.sample()"
   ]
  },
  {
   "cell_type": "markdown",
   "metadata": {},
   "source": [
    "About features:\n",
    "\n",
    " - Author ID - author's unique identifier\n",
    " - MEIBI and MEIBIX metrics identify the top influential bloggers\n",
    " - wordsNumNoStop - Average Number Of Words In Posts (without stopwords)\n",
    " - wordsNum - Average Number Of Words In Posts (with stopwords)\n"
   ]
  },
  {
   "cell_type": "code",
   "execution_count": 469,
   "metadata": {},
   "outputs": [
    {
     "data": {
      "text/html": [
       "<div>\n",
       "<style scoped>\n",
       "    .dataframe tbody tr th:only-of-type {\n",
       "        vertical-align: middle;\n",
       "    }\n",
       "\n",
       "    .dataframe tbody tr th {\n",
       "        vertical-align: top;\n",
       "    }\n",
       "\n",
       "    .dataframe thead th {\n",
       "        text-align: right;\n",
       "    }\n",
       "</style>\n",
       "<table border=\"1\" class=\"dataframe\">\n",
       "  <thead>\n",
       "    <tr style=\"text-align: right;\">\n",
       "      <th></th>\n",
       "      <th>count</th>\n",
       "      <th>mean</th>\n",
       "      <th>std</th>\n",
       "      <th>min</th>\n",
       "      <th>25%</th>\n",
       "      <th>50%</th>\n",
       "      <th>75%</th>\n",
       "      <th>max</th>\n",
       "    </tr>\n",
       "  </thead>\n",
       "  <tbody>\n",
       "    <tr>\n",
       "      <th>Author ID</th>\n",
       "      <td>107.0</td>\n",
       "      <td>54.000000</td>\n",
       "      <td>31.032241</td>\n",
       "      <td>1.000000</td>\n",
       "      <td>27.500000</td>\n",
       "      <td>54.000000</td>\n",
       "      <td>80.500000</td>\n",
       "      <td>107.000000</td>\n",
       "    </tr>\n",
       "    <tr>\n",
       "      <th>wordsNumNoStop</th>\n",
       "      <td>107.0</td>\n",
       "      <td>4.271868</td>\n",
       "      <td>0.294846</td>\n",
       "      <td>3.233319</td>\n",
       "      <td>4.089780</td>\n",
       "      <td>4.234233</td>\n",
       "      <td>4.406861</td>\n",
       "      <td>5.105769</td>\n",
       "    </tr>\n",
       "    <tr>\n",
       "      <th>wordsNum</th>\n",
       "      <td>107.0</td>\n",
       "      <td>5.820448</td>\n",
       "      <td>0.311643</td>\n",
       "      <td>4.368871</td>\n",
       "      <td>5.656561</td>\n",
       "      <td>5.840711</td>\n",
       "      <td>5.990137</td>\n",
       "      <td>6.637500</td>\n",
       "    </tr>\n",
       "    <tr>\n",
       "      <th>MEIBI</th>\n",
       "      <td>107.0</td>\n",
       "      <td>7.205607</td>\n",
       "      <td>15.200384</td>\n",
       "      <td>0.000000</td>\n",
       "      <td>1.000000</td>\n",
       "      <td>2.000000</td>\n",
       "      <td>7.000000</td>\n",
       "      <td>114.000000</td>\n",
       "    </tr>\n",
       "    <tr>\n",
       "      <th>MEIBIX</th>\n",
       "      <td>107.0</td>\n",
       "      <td>7.205607</td>\n",
       "      <td>15.194797</td>\n",
       "      <td>0.000000</td>\n",
       "      <td>1.000000</td>\n",
       "      <td>2.000000</td>\n",
       "      <td>7.000000</td>\n",
       "      <td>114.000000</td>\n",
       "    </tr>\n",
       "  </tbody>\n",
       "</table>\n",
       "</div>"
      ],
      "text/plain": [
       "                count       mean        std       min        25%        50%  \\\n",
       "Author ID       107.0  54.000000  31.032241  1.000000  27.500000  54.000000   \n",
       "wordsNumNoStop  107.0   4.271868   0.294846  3.233319   4.089780   4.234233   \n",
       "wordsNum        107.0   5.820448   0.311643  4.368871   5.656561   5.840711   \n",
       "MEIBI           107.0   7.205607  15.200384  0.000000   1.000000   2.000000   \n",
       "MEIBIX          107.0   7.205607  15.194797  0.000000   1.000000   2.000000   \n",
       "\n",
       "                      75%         max  \n",
       "Author ID       80.500000  107.000000  \n",
       "wordsNumNoStop   4.406861    5.105769  \n",
       "wordsNum         5.990137    6.637500  \n",
       "MEIBI            7.000000  114.000000  \n",
       "MEIBIX           7.000000  114.000000  "
      ]
     },
     "execution_count": 469,
     "metadata": {},
     "output_type": "execute_result"
    }
   ],
   "source": [
    "df.describe().T"
   ]
  },
  {
   "cell_type": "markdown",
   "metadata": {},
   "source": [
    "From the presented table, the following conclusions can be drawn:\n",
    "\n",
    " - In total, the table contains 107 values for each of the four variables, which may indicate that the sample is not very large.\n",
    "\n",
    " - wordsNumNoStop and wordsNum represent the number of words in articles with and without stop words (words that occur frequently in the language and do not carry much information). The average value of wordsNumNoStop is 4.27, and wordsNum is 5.82, which may indicate that the articles are quite short, consisting of about 4-6 words.\n",
    "\n",
    " - MEIBI and MEIBIX are likely to be two different variables that may be related to measurements of certain characteristics. The mean value of both variables is 7.21, which may indicate that these characteristics are quite low."
   ]
  },
  {
   "cell_type": "markdown",
   "metadata": {},
   "source": [
    "I move on to the next dataset and first convert the names of the features into a convenient form"
   ]
  },
  {
   "cell_type": "code",
   "execution_count": 470,
   "metadata": {},
   "outputs": [
    {
     "data": {
      "text/html": [
       "<div>\n",
       "<style scoped>\n",
       "    .dataframe tbody tr th:only-of-type {\n",
       "        vertical-align: middle;\n",
       "    }\n",
       "\n",
       "    .dataframe tbody tr th {\n",
       "        vertical-align: top;\n",
       "    }\n",
       "\n",
       "    .dataframe thead th {\n",
       "        text-align: right;\n",
       "    }\n",
       "</style>\n",
       "<table border=\"1\" class=\"dataframe\">\n",
       "  <thead>\n",
       "    <tr style=\"text-align: right;\">\n",
       "      <th></th>\n",
       "      <th>Post ID</th>\n",
       "      <th>Title</th>\n",
       "      <th>Blogger's Name</th>\n",
       "      <th>Author ID</th>\n",
       "      <th>commentsNum</th>\n",
       "      <th>Content</th>\n",
       "      <th>Date</th>\n",
       "      <th>links</th>\n",
       "      <th>comments</th>\n",
       "    </tr>\n",
       "  </thead>\n",
       "  <tbody>\n",
       "    <tr>\n",
       "      <th>10384</th>\n",
       "      <td>10385</td>\n",
       "      <td>Blip.tv Gets Some Safety Money From Bain</td>\n",
       "      <td>Robin Wauters</td>\n",
       "      <td>11</td>\n",
       "      <td>18</td>\n",
       "      <td>New York-based online television network blip....</td>\n",
       "      <td>2008-10-21</td>\n",
       "      <td>6</td>\n",
       "      <td>10</td>\n",
       "    </tr>\n",
       "    <tr>\n",
       "      <th>12548</th>\n",
       "      <td>12549</td>\n",
       "      <td>Friday Survey: Do You Own An iPhone?</td>\n",
       "      <td>Mark Hendrickson</td>\n",
       "      <td>53</td>\n",
       "      <td>78</td>\n",
       "      <td>It&amp;#8217;s coming up on a year since the iPhon...</td>\n",
       "      <td>2008-05-16</td>\n",
       "      <td>0</td>\n",
       "      <td>60</td>\n",
       "    </tr>\n",
       "  </tbody>\n",
       "</table>\n",
       "</div>"
      ],
      "text/plain": [
       "       Post ID                                     Title    Blogger's Name  \\\n",
       "10384    10385  Blip.tv Gets Some Safety Money From Bain     Robin Wauters   \n",
       "12548    12549      Friday Survey: Do You Own An iPhone?  Mark Hendrickson   \n",
       "\n",
       "       Author ID  commentsNum  \\\n",
       "10384         11           18   \n",
       "12548         53           78   \n",
       "\n",
       "                                                 Content        Date  links  \\\n",
       "10384  New York-based online television network blip....  2008-10-21      6   \n",
       "12548  It&#8217;s coming up on a year since the iPhon...  2008-05-16      0   \n",
       "\n",
       "       comments  \n",
       "10384        10  \n",
       "12548        60  "
      ]
     },
     "execution_count": 470,
     "metadata": {},
     "output_type": "execute_result"
    }
   ],
   "source": [
    "\n",
    "df1 = pd.read_csv('posts.csv') #19464, 9\n",
    "df1.rename(columns = {\"Blogger's ID\":'Author ID',\"Number of retrieved inlinks\":'links'}, inplace = True)\n",
    "df1.rename(columns = {\"Number of retrieved comments\":'comments',\"Number of comments\":'commentsNum'}, inplace = True)\n",
    "\n",
    "df1.sample(2)"
   ]
  },
  {
   "cell_type": "code",
   "execution_count": 471,
   "metadata": {},
   "outputs": [
    {
     "name": "stdout",
     "output_type": "stream",
     "text": [
      "<class 'pandas.core.frame.DataFrame'>\n",
      "RangeIndex: 19464 entries, 0 to 19463\n",
      "Data columns (total 9 columns):\n",
      " #   Column          Non-Null Count  Dtype \n",
      "---  ------          --------------  ----- \n",
      " 0   Post ID         19464 non-null  int64 \n",
      " 1   Title           19459 non-null  object\n",
      " 2   Blogger's Name  19464 non-null  object\n",
      " 3   Author ID       19464 non-null  int64 \n",
      " 4   commentsNum     19464 non-null  int64 \n",
      " 5   Content         19383 non-null  object\n",
      " 6   Date            19464 non-null  object\n",
      " 7   links           19464 non-null  int64 \n",
      " 8   comments        19464 non-null  int64 \n",
      "dtypes: int64(5), object(4)\n",
      "memory usage: 1.3+ MB\n"
     ]
    }
   ],
   "source": [
    "df1.info()"
   ]
  },
  {
   "cell_type": "markdown",
   "metadata": {},
   "source": [
    "Basic statistics as for zero values and NaN:"
   ]
  },
  {
   "cell_type": "code",
   "execution_count": 472,
   "metadata": {},
   "outputs": [
    {
     "data": {
      "text/html": [
       "<div>\n",
       "<style scoped>\n",
       "    .dataframe tbody tr th:only-of-type {\n",
       "        vertical-align: middle;\n",
       "    }\n",
       "\n",
       "    .dataframe tbody tr th {\n",
       "        vertical-align: top;\n",
       "    }\n",
       "\n",
       "    .dataframe thead th {\n",
       "        text-align: right;\n",
       "    }\n",
       "</style>\n",
       "<table border=\"1\" class=\"dataframe\">\n",
       "  <thead>\n",
       "    <tr style=\"text-align: right;\">\n",
       "      <th></th>\n",
       "      <th>Missing value, %</th>\n",
       "      <th>Zero value, %</th>\n",
       "      <th>N unique value</th>\n",
       "      <th>dtype</th>\n",
       "    </tr>\n",
       "  </thead>\n",
       "  <tbody>\n",
       "    <tr>\n",
       "      <th>Post ID</th>\n",
       "      <td>0.0000</td>\n",
       "      <td>0.0000</td>\n",
       "      <td>19464</td>\n",
       "      <td>int64</td>\n",
       "    </tr>\n",
       "    <tr>\n",
       "      <th>Title</th>\n",
       "      <td>0.0257</td>\n",
       "      <td>0.0000</td>\n",
       "      <td>19269</td>\n",
       "      <td>object</td>\n",
       "    </tr>\n",
       "    <tr>\n",
       "      <th>Blogger's Name</th>\n",
       "      <td>0.0000</td>\n",
       "      <td>0.0000</td>\n",
       "      <td>107</td>\n",
       "      <td>object</td>\n",
       "    </tr>\n",
       "    <tr>\n",
       "      <th>Author ID</th>\n",
       "      <td>0.0000</td>\n",
       "      <td>0.0000</td>\n",
       "      <td>107</td>\n",
       "      <td>int64</td>\n",
       "    </tr>\n",
       "    <tr>\n",
       "      <th>commentsNum</th>\n",
       "      <td>0.0000</td>\n",
       "      <td>13.7998</td>\n",
       "      <td>439</td>\n",
       "      <td>int64</td>\n",
       "    </tr>\n",
       "    <tr>\n",
       "      <th>Content</th>\n",
       "      <td>0.4162</td>\n",
       "      <td>0.0000</td>\n",
       "      <td>19265</td>\n",
       "      <td>object</td>\n",
       "    </tr>\n",
       "    <tr>\n",
       "      <th>Date</th>\n",
       "      <td>0.0000</td>\n",
       "      <td>0.0000</td>\n",
       "      <td>1720</td>\n",
       "      <td>object</td>\n",
       "    </tr>\n",
       "    <tr>\n",
       "      <th>links</th>\n",
       "      <td>0.0000</td>\n",
       "      <td>10.3627</td>\n",
       "      <td>100</td>\n",
       "      <td>int64</td>\n",
       "    </tr>\n",
       "    <tr>\n",
       "      <th>comments</th>\n",
       "      <td>0.0000</td>\n",
       "      <td>2.4147</td>\n",
       "      <td>346</td>\n",
       "      <td>int64</td>\n",
       "    </tr>\n",
       "  </tbody>\n",
       "</table>\n",
       "</div>"
      ],
      "text/plain": [
       "                Missing value, %  Zero value, %  N unique value   dtype\n",
       "Post ID                   0.0000         0.0000           19464   int64\n",
       "Title                     0.0257         0.0000           19269  object\n",
       "Blogger's Name            0.0000         0.0000             107  object\n",
       "Author ID                 0.0000         0.0000             107   int64\n",
       "commentsNum               0.0000        13.7998             439   int64\n",
       "Content                   0.4162         0.0000           19265  object\n",
       "Date                      0.0000         0.0000            1720  object\n",
       "links                     0.0000        10.3627             100   int64\n",
       "comments                  0.0000         2.4147             346   int64"
      ]
     },
     "execution_count": 472,
     "metadata": {},
     "output_type": "execute_result"
    }
   ],
   "source": [
    "basic_details(df1)"
   ]
  },
  {
   "cell_type": "markdown",
   "metadata": {},
   "source": [
    "Features description for 2nd dataset:\n",
    "\n",
    " - Post ID - post's unique identifier\n",
    " - Title - title of post\n",
    " - Blogger's Name - author's name\n",
    " - Blogger's ID - post's unique identifier (for further data concatenation)\n",
    " - commentsNum - number of post comments\n",
    " - comments - number of retrieved comments\n",
    " - Content - post content\n",
    " - Date - date of post\n",
    " - links - number of retrieved inlinks"
   ]
  },
  {
   "cell_type": "markdown",
   "metadata": {},
   "source": [
    "I want to add a new feature to the data set: the number of publications of the author during last six months. Perhaps this will help me understand the intensity of the author."
   ]
  },
  {
   "cell_type": "code",
   "execution_count": 473,
   "metadata": {},
   "outputs": [
    {
     "data": {
      "text/plain": [
       "(19464, 10)"
      ]
     },
     "execution_count": 473,
     "metadata": {},
     "output_type": "execute_result"
    }
   ],
   "source": [
    "from datetime import datetime, timedelta\n",
    "\n",
    "df1['Date'] = pd.to_datetime(df1['Date'])\n",
    "\n",
    "# define the end date as the maximum date in the dataset\n",
    "end = max(df1['Date'])\n",
    "\n",
    "\n",
    "\n",
    "# define the start date as 6 months ago from the end date\n",
    "start = end - pd.DateOffset(months=6)\n",
    "df_filtered = df1[df1['Date'].between(start,end)]\n",
    "\n",
    "# Grouping posts by bloggers and counting the number of posts in each group\n",
    "counts = df_filtered.groupby('Author ID')['Date'].count().reset_index()\n",
    "counts.columns = ['Author ID', 'pubLast6months']\n",
    "\n",
    "# We merge the result with the original dataframe using merge\n",
    "df1 = pd.merge(df1, counts, on='Author ID',how='left')\n",
    "\n",
    "# Fill in missing values with zeros\n",
    "df1['pubLast6months'] = df1['pubLast6months'].fillna(0)\n",
    "df1.shape\n",
    "\n"
   ]
  },
  {
   "cell_type": "code",
   "execution_count": 474,
   "metadata": {},
   "outputs": [
    {
     "data": {
      "text/html": [
       "<div>\n",
       "<style scoped>\n",
       "    .dataframe tbody tr th:only-of-type {\n",
       "        vertical-align: middle;\n",
       "    }\n",
       "\n",
       "    .dataframe tbody tr th {\n",
       "        vertical-align: top;\n",
       "    }\n",
       "\n",
       "    .dataframe thead th {\n",
       "        text-align: right;\n",
       "    }\n",
       "</style>\n",
       "<table border=\"1\" class=\"dataframe\">\n",
       "  <thead>\n",
       "    <tr style=\"text-align: right;\">\n",
       "      <th></th>\n",
       "      <th>Missing value, %</th>\n",
       "      <th>Zero value, %</th>\n",
       "      <th>N unique value</th>\n",
       "      <th>dtype</th>\n",
       "    </tr>\n",
       "  </thead>\n",
       "  <tbody>\n",
       "    <tr>\n",
       "      <th>Post ID</th>\n",
       "      <td>0.0000</td>\n",
       "      <td>0.0000</td>\n",
       "      <td>19464</td>\n",
       "      <td>int64</td>\n",
       "    </tr>\n",
       "    <tr>\n",
       "      <th>Title</th>\n",
       "      <td>0.0257</td>\n",
       "      <td>0.0000</td>\n",
       "      <td>19269</td>\n",
       "      <td>object</td>\n",
       "    </tr>\n",
       "    <tr>\n",
       "      <th>Blogger's Name</th>\n",
       "      <td>0.0000</td>\n",
       "      <td>0.0000</td>\n",
       "      <td>107</td>\n",
       "      <td>object</td>\n",
       "    </tr>\n",
       "    <tr>\n",
       "      <th>Author ID</th>\n",
       "      <td>0.0000</td>\n",
       "      <td>0.0000</td>\n",
       "      <td>107</td>\n",
       "      <td>int64</td>\n",
       "    </tr>\n",
       "    <tr>\n",
       "      <th>commentsNum</th>\n",
       "      <td>0.0000</td>\n",
       "      <td>13.7998</td>\n",
       "      <td>439</td>\n",
       "      <td>int64</td>\n",
       "    </tr>\n",
       "    <tr>\n",
       "      <th>Content</th>\n",
       "      <td>0.4162</td>\n",
       "      <td>0.0000</td>\n",
       "      <td>19265</td>\n",
       "      <td>object</td>\n",
       "    </tr>\n",
       "    <tr>\n",
       "      <th>Date</th>\n",
       "      <td>0.0000</td>\n",
       "      <td>0.0000</td>\n",
       "      <td>1720</td>\n",
       "      <td>datetime64[ns]</td>\n",
       "    </tr>\n",
       "    <tr>\n",
       "      <th>links</th>\n",
       "      <td>0.0000</td>\n",
       "      <td>10.3627</td>\n",
       "      <td>100</td>\n",
       "      <td>int64</td>\n",
       "    </tr>\n",
       "    <tr>\n",
       "      <th>comments</th>\n",
       "      <td>0.0000</td>\n",
       "      <td>2.4147</td>\n",
       "      <td>346</td>\n",
       "      <td>int64</td>\n",
       "    </tr>\n",
       "    <tr>\n",
       "      <th>pubLast6months</th>\n",
       "      <td>0.0000</td>\n",
       "      <td>14.2057</td>\n",
       "      <td>31</td>\n",
       "      <td>float64</td>\n",
       "    </tr>\n",
       "  </tbody>\n",
       "</table>\n",
       "</div>"
      ],
      "text/plain": [
       "                Missing value, %  Zero value, %  N unique value  \\\n",
       "Post ID                   0.0000         0.0000           19464   \n",
       "Title                     0.0257         0.0000           19269   \n",
       "Blogger's Name            0.0000         0.0000             107   \n",
       "Author ID                 0.0000         0.0000             107   \n",
       "commentsNum               0.0000        13.7998             439   \n",
       "Content                   0.4162         0.0000           19265   \n",
       "Date                      0.0000         0.0000            1720   \n",
       "links                     0.0000        10.3627             100   \n",
       "comments                  0.0000         2.4147             346   \n",
       "pubLast6months            0.0000        14.2057              31   \n",
       "\n",
       "                         dtype  \n",
       "Post ID                  int64  \n",
       "Title                   object  \n",
       "Blogger's Name          object  \n",
       "Author ID                int64  \n",
       "commentsNum              int64  \n",
       "Content                 object  \n",
       "Date            datetime64[ns]  \n",
       "links                    int64  \n",
       "comments                 int64  \n",
       "pubLast6months         float64  "
      ]
     },
     "execution_count": 474,
     "metadata": {},
     "output_type": "execute_result"
    }
   ],
   "source": [
    "basic_details(df1)"
   ]
  },
  {
   "cell_type": "markdown",
   "metadata": {},
   "source": [
    "Then I combine the title and text of the posts into corp feature and I'll add some new features to dataframe and drop useless features"
   ]
  },
  {
   "cell_type": "code",
   "execution_count": 475,
   "metadata": {},
   "outputs": [],
   "source": [
    "# combine title & text\n",
    "df1['corp'] = df1.Title.fillna('') + \" \" + df1.Content.fillna('')\n",
    "df1['corp_len'] = df1['corp'].apply(lambda x: len(x.split(' '))) # text len\n",
    "df1['autorActivity'] = df1.groupby('Author ID')['Author ID'].transform('count') # how many autor's posts?\n",
    "df1['commentsTotal'] = df1.commentsNum+df1.comments # sum of 1-st level and other comments\n",
    "df1 = df1.drop(['Title','Content','Post ID',\"Blogger's Name\",'Date','comments','commentsNum'], axis=1)"
   ]
  },
  {
   "cell_type": "code",
   "execution_count": 476,
   "metadata": {},
   "outputs": [
    {
     "data": {
      "text/html": [
       "<div>\n",
       "<style scoped>\n",
       "    .dataframe tbody tr th:only-of-type {\n",
       "        vertical-align: middle;\n",
       "    }\n",
       "\n",
       "    .dataframe tbody tr th {\n",
       "        vertical-align: top;\n",
       "    }\n",
       "\n",
       "    .dataframe thead th {\n",
       "        text-align: right;\n",
       "    }\n",
       "</style>\n",
       "<table border=\"1\" class=\"dataframe\">\n",
       "  <thead>\n",
       "    <tr style=\"text-align: right;\">\n",
       "      <th></th>\n",
       "      <th>Author ID</th>\n",
       "      <th>links</th>\n",
       "      <th>pubLast6months</th>\n",
       "      <th>corp_len</th>\n",
       "      <th>autorActivity</th>\n",
       "      <th>commentsTotal</th>\n",
       "    </tr>\n",
       "  </thead>\n",
       "  <tbody>\n",
       "    <tr>\n",
       "      <th>count</th>\n",
       "      <td>19464.000000</td>\n",
       "      <td>19464.000000</td>\n",
       "      <td>19464.000000</td>\n",
       "      <td>19464.000000</td>\n",
       "      <td>19464.000000</td>\n",
       "      <td>19464.000000</td>\n",
       "    </tr>\n",
       "    <tr>\n",
       "      <th>mean</th>\n",
       "      <td>18.742756</td>\n",
       "      <td>9.957254</td>\n",
       "      <td>362.556926</td>\n",
       "      <td>376.745838</td>\n",
       "      <td>2225.390567</td>\n",
       "      <td>85.449137</td>\n",
       "    </tr>\n",
       "    <tr>\n",
       "      <th>std</th>\n",
       "      <td>29.724150</td>\n",
       "      <td>14.188437</td>\n",
       "      <td>234.229607</td>\n",
       "      <td>418.626556</td>\n",
       "      <td>1716.086173</td>\n",
       "      <td>110.678427</td>\n",
       "    </tr>\n",
       "    <tr>\n",
       "      <th>min</th>\n",
       "      <td>1.000000</td>\n",
       "      <td>0.000000</td>\n",
       "      <td>0.000000</td>\n",
       "      <td>2.000000</td>\n",
       "      <td>1.000000</td>\n",
       "      <td>0.000000</td>\n",
       "    </tr>\n",
       "    <tr>\n",
       "      <th>25%</th>\n",
       "      <td>2.000000</td>\n",
       "      <td>2.000000</td>\n",
       "      <td>82.000000</td>\n",
       "      <td>193.000000</td>\n",
       "      <td>1260.000000</td>\n",
       "      <td>30.000000</td>\n",
       "    </tr>\n",
       "    <tr>\n",
       "      <th>50%</th>\n",
       "      <td>4.000000</td>\n",
       "      <td>5.000000</td>\n",
       "      <td>433.000000</td>\n",
       "      <td>289.000000</td>\n",
       "      <td>1435.000000</td>\n",
       "      <td>54.000000</td>\n",
       "    </tr>\n",
       "    <tr>\n",
       "      <th>75%</th>\n",
       "      <td>11.000000</td>\n",
       "      <td>12.000000</td>\n",
       "      <td>469.000000</td>\n",
       "      <td>430.000000</td>\n",
       "      <td>4903.000000</td>\n",
       "      <td>101.000000</td>\n",
       "    </tr>\n",
       "    <tr>\n",
       "      <th>max</th>\n",
       "      <td>107.000000</td>\n",
       "      <td>100.000000</td>\n",
       "      <td>700.000000</td>\n",
       "      <td>10958.000000</td>\n",
       "      <td>4903.000000</td>\n",
       "      <td>3183.000000</td>\n",
       "    </tr>\n",
       "  </tbody>\n",
       "</table>\n",
       "</div>"
      ],
      "text/plain": [
       "          Author ID         links  pubLast6months      corp_len  \\\n",
       "count  19464.000000  19464.000000    19464.000000  19464.000000   \n",
       "mean      18.742756      9.957254      362.556926    376.745838   \n",
       "std       29.724150     14.188437      234.229607    418.626556   \n",
       "min        1.000000      0.000000        0.000000      2.000000   \n",
       "25%        2.000000      2.000000       82.000000    193.000000   \n",
       "50%        4.000000      5.000000      433.000000    289.000000   \n",
       "75%       11.000000     12.000000      469.000000    430.000000   \n",
       "max      107.000000    100.000000      700.000000  10958.000000   \n",
       "\n",
       "       autorActivity  commentsTotal  \n",
       "count   19464.000000   19464.000000  \n",
       "mean     2225.390567      85.449137  \n",
       "std      1716.086173     110.678427  \n",
       "min         1.000000       0.000000  \n",
       "25%      1260.000000      30.000000  \n",
       "50%      1435.000000      54.000000  \n",
       "75%      4903.000000     101.000000  \n",
       "max      4903.000000    3183.000000  "
      ]
     },
     "execution_count": 476,
     "metadata": {},
     "output_type": "execute_result"
    }
   ],
   "source": [
    "df1.describe()"
   ]
  },
  {
   "cell_type": "markdown",
   "metadata": {},
   "source": [
    "From the presented table, the following conclusions can be drawn:\n",
    "\n",
    " - The table shows statistics for 19464 blog authors.\n",
    " - The average value for citations is 9.96 and the maximum value is 100, which means that most authors add relatively few citations to their publications.\n",
    " - The average value of pubLast6months is 362.56 and the maximum is 700, which means that the authors have published a relatively large number of publications in the last 6 months.\n",
    " - The average value of corp_len is 376.75, and the maximum value is 10958, which means that the length of publications among authors varies greatly.\n",
    " - The average value of autorActivity is 2225.39 and the maximum value is 4903, which means that most of the authors are actively participating in the life of the blogs and leaving comments.\n",
    " - The average value of commentTotal is 85.45 and the maximum is 3183, which means that the number of comments among authors varies greatly, and there are authors who have much more comments than others."
   ]
  },
  {
   "cell_type": "code",
   "execution_count": 477,
   "metadata": {},
   "outputs": [
    {
     "data": {
      "text/html": [
       "<div>\n",
       "<style scoped>\n",
       "    .dataframe tbody tr th:only-of-type {\n",
       "        vertical-align: middle;\n",
       "    }\n",
       "\n",
       "    .dataframe tbody tr th {\n",
       "        vertical-align: top;\n",
       "    }\n",
       "\n",
       "    .dataframe thead th {\n",
       "        text-align: right;\n",
       "    }\n",
       "</style>\n",
       "<table border=\"1\" class=\"dataframe\">\n",
       "  <thead>\n",
       "    <tr style=\"text-align: right;\">\n",
       "      <th></th>\n",
       "      <th>Author ID</th>\n",
       "      <th>links</th>\n",
       "      <th>pubLast6months</th>\n",
       "      <th>corp</th>\n",
       "      <th>corp_len</th>\n",
       "      <th>autorActivity</th>\n",
       "      <th>commentsTotal</th>\n",
       "    </tr>\n",
       "  </thead>\n",
       "  <tbody>\n",
       "    <tr>\n",
       "      <th>13842</th>\n",
       "      <td>89</td>\n",
       "      <td>5</td>\n",
       "      <td>0.0</td>\n",
       "      <td>Yahoo Relaunches Yahoo Video Amid the turmoil ...</td>\n",
       "      <td>151</td>\n",
       "      <td>1275</td>\n",
       "      <td>16</td>\n",
       "    </tr>\n",
       "    <tr>\n",
       "      <th>19006</th>\n",
       "      <td>2</td>\n",
       "      <td>5</td>\n",
       "      <td>433.0</td>\n",
       "      <td>Omnidrive&amp;#039;s Online Storage Actually Works...</td>\n",
       "      <td>132</td>\n",
       "      <td>4903</td>\n",
       "      <td>31</td>\n",
       "    </tr>\n",
       "    <tr>\n",
       "      <th>1843</th>\n",
       "      <td>3</td>\n",
       "      <td>2</td>\n",
       "      <td>468.0</td>\n",
       "      <td>Google Now Tracking The Flu, City By City.  So...</td>\n",
       "      <td>198</td>\n",
       "      <td>2685</td>\n",
       "      <td>13</td>\n",
       "    </tr>\n",
       "    <tr>\n",
       "      <th>3815</th>\n",
       "      <td>2</td>\n",
       "      <td>1</td>\n",
       "      <td>433.0</td>\n",
       "      <td>Google Figured Out Where New Zealand Is Last w...</td>\n",
       "      <td>111</td>\n",
       "      <td>4903</td>\n",
       "      <td>37</td>\n",
       "    </tr>\n",
       "    <tr>\n",
       "      <th>13763</th>\n",
       "      <td>2</td>\n",
       "      <td>35</td>\n",
       "      <td>433.0</td>\n",
       "      <td>Facebook Targets FriendFeed; Opening Up The Ne...</td>\n",
       "      <td>258</td>\n",
       "      <td>4903</td>\n",
       "      <td>104</td>\n",
       "    </tr>\n",
       "  </tbody>\n",
       "</table>\n",
       "</div>"
      ],
      "text/plain": [
       "       Author ID  links  pubLast6months  \\\n",
       "13842         89      5             0.0   \n",
       "19006          2      5           433.0   \n",
       "1843           3      2           468.0   \n",
       "3815           2      1           433.0   \n",
       "13763          2     35           433.0   \n",
       "\n",
       "                                                    corp  corp_len  \\\n",
       "13842  Yahoo Relaunches Yahoo Video Amid the turmoil ...       151   \n",
       "19006  Omnidrive&#039;s Online Storage Actually Works...       132   \n",
       "1843   Google Now Tracking The Flu, City By City.  So...       198   \n",
       "3815   Google Figured Out Where New Zealand Is Last w...       111   \n",
       "13763  Facebook Targets FriendFeed; Opening Up The Ne...       258   \n",
       "\n",
       "       autorActivity  commentsTotal  \n",
       "13842           1275             16  \n",
       "19006           4903             31  \n",
       "1843            2685             13  \n",
       "3815            4903             37  \n",
       "13763           4903            104  "
      ]
     },
     "execution_count": 477,
     "metadata": {},
     "output_type": "execute_result"
    }
   ],
   "source": [
    "df1.sample(5)"
   ]
  },
  {
   "cell_type": "markdown",
   "metadata": {},
   "source": [
    "Next, I want to convert all of each author's posts into a list of words that can describe the author's area of interest. In other words, to identify the TOP words of each of them, so that in the future the client can choose the author by relevant keywords in publications."
   ]
  },
  {
   "cell_type": "markdown",
   "metadata": {},
   "source": [
    "gensim.models.ldamodel.LdaModel -  is a class that represents an implementation of the Latent Dirichlet Allocation (LDA) model in the Gensim library. LDA is a probabilistic generative model that allows you to explore the thematic structure of documents.\n",
    "\n",
    "LdaModel trains LDA on a set of documents and allows you to extract thematic distributions in documents. It takes several parameters such as:\n",
    "\n",
    " - corpus: a set of documents presented as lists of terms\n",
    " - id2word: A dictionary that assigns a unique integer identifier to each term.\n",
    " - num_topics: number of topics to retrieve\n",
    " - random_state: initializing the random number generator for reproducible results\n",
    " - update_every: number of processed documents to update the model\n",
    " - chunksize: number of documents processed at one time\n",
    " - pass: number of passes through the dataset to train the model\n",
    " - alpha: A model parameter that controls the distribution of topics in the document.\n",
    " - per_word_topics: A flag indicating whether to retrieve the topic distribution for each word in the document.\n",
    " \n",
    "LdaModel also provides methods for applying the trained model to new documents and extracting topic distributions."
   ]
  },
  {
   "cell_type": "code",
   "execution_count": 478,
   "metadata": {},
   "outputs": [
    {
     "data": {
      "text/html": [
       "<div>\n",
       "<style scoped>\n",
       "    .dataframe tbody tr th:only-of-type {\n",
       "        vertical-align: middle;\n",
       "    }\n",
       "\n",
       "    .dataframe tbody tr th {\n",
       "        vertical-align: top;\n",
       "    }\n",
       "\n",
       "    .dataframe thead th {\n",
       "        text-align: right;\n",
       "    }\n",
       "</style>\n",
       "<table border=\"1\" class=\"dataframe\">\n",
       "  <thead>\n",
       "    <tr style=\"text-align: right;\">\n",
       "      <th></th>\n",
       "      <th>Author ID</th>\n",
       "      <th>Topic</th>\n",
       "    </tr>\n",
       "  </thead>\n",
       "  <tbody>\n",
       "    <tr>\n",
       "      <th>1</th>\n",
       "      <td>2</td>\n",
       "      <td>\"user\", \"company\", \"new\", \"google\", \"’\", \"like...</td>\n",
       "    </tr>\n",
       "    <tr>\n",
       "      <th>71</th>\n",
       "      <td>72</td>\n",
       "      <td>\"advertising\", \"’\", \"google\", \"ad\", \"content\",...</td>\n",
       "    </tr>\n",
       "    <tr>\n",
       "      <th>2</th>\n",
       "      <td>3</td>\n",
       "      <td>\"million\", \"google\", \"search\", \"video\", \"one\",...</td>\n",
       "    </tr>\n",
       "  </tbody>\n",
       "</table>\n",
       "</div>"
      ],
      "text/plain": [
       "    Author ID                                              Topic\n",
       "1           2  \"user\", \"company\", \"new\", \"google\", \"’\", \"like...\n",
       "71         72  \"advertising\", \"’\", \"google\", \"ad\", \"content\",...\n",
       "2           3  \"million\", \"google\", \"search\", \"video\", \"one\",..."
      ]
     },
     "execution_count": 478,
     "metadata": {},
     "output_type": "execute_result"
    }
   ],
   "source": [
    "\n",
    "# Group the dataset by blogger ID\n",
    "grouped = df1.groupby('Author ID')\n",
    "\n",
    "# Create an empty list to store the results\n",
    "results = []\n",
    "\n",
    "# Iterate over each group\n",
    "for name, group in grouped:\n",
    "    # Concatenate all the blogger's posts into one text\n",
    "    text = ' '.join(group['corp'])\n",
    "    \n",
    "    # Clean the text \n",
    "    preprocessed_text = clean_text(text)\n",
    "    \n",
    "    # Create a dictionary\n",
    "    dictionary = corpora.Dictionary([preprocessed_text])\n",
    "    \n",
    "    # Create a corpus\n",
    "    corpus = [dictionary.doc2bow(preprocessed_text)]\n",
    "    \n",
    "    # Apply the LDA algorithm to extract topics\n",
    "    lda_model = gensim.models.ldamodel.LdaModel(corpus=corpus,\n",
    "                                                id2word=dictionary,\n",
    "                                                num_topics=1, \n",
    "                                                random_state=100,\n",
    "                                                update_every=1,\n",
    "                                                chunksize=100,\n",
    "                                                passes=10,\n",
    "                                                alpha='auto',\n",
    "                                                per_word_topics=True)\n",
    "    \n",
    "    # Add the obtained topic to the results list\n",
    "    results.append((name, lda_model.print_topics()[0][1]))\n",
    "    \n",
    "# Create a new dataset with a new feature\n",
    "new_df = pd.DataFrame(results, columns=['Author ID', 'Topic'])\n",
    "\n",
    "# Function to create a string with the top words\n",
    "def top_words(topic):\n",
    "    return ', '.join([word.split('*')[1].strip() for word in topic.split('+')])\n",
    "\n",
    "# Apply the function to the 'Topic' column\n",
    "new_df['Topic'] = new_df['Topic'].apply(lambda x: top_words(x))\n",
    "new_df.sample(3)\n"
   ]
  },
  {
   "cell_type": "markdown",
   "metadata": {},
   "source": [
    "And now I'd like to combine all datasets into one for further analytics"
   ]
  },
  {
   "cell_type": "code",
   "execution_count": 479,
   "metadata": {},
   "outputs": [],
   "source": [
    "\n",
    "# group all features by autors and getting median\n",
    "df1 = (df1.groupby(['Author ID'], as_index=False)\n",
    "                .agg(commentsTotal_median = ('commentsTotal','median'),links_median = ('links','median'),\n",
    "                corp_len_median = ('corp_len','median'),autorActivity = ('autorActivity','median'), pubLast6months = ('pubLast6months','median')))"
   ]
  },
  {
   "cell_type": "code",
   "execution_count": 480,
   "metadata": {},
   "outputs": [
    {
     "data": {
      "text/html": [
       "<div>\n",
       "<style scoped>\n",
       "    .dataframe tbody tr th:only-of-type {\n",
       "        vertical-align: middle;\n",
       "    }\n",
       "\n",
       "    .dataframe tbody tr th {\n",
       "        vertical-align: top;\n",
       "    }\n",
       "\n",
       "    .dataframe thead th {\n",
       "        text-align: right;\n",
       "    }\n",
       "</style>\n",
       "<table border=\"1\" class=\"dataframe\">\n",
       "  <thead>\n",
       "    <tr style=\"text-align: right;\">\n",
       "      <th></th>\n",
       "      <th>wordsNumNoStop</th>\n",
       "      <th>wordsNum</th>\n",
       "      <th>MEIBI</th>\n",
       "      <th>MEIBIX</th>\n",
       "      <th>commentsTotal_median</th>\n",
       "      <th>links_median</th>\n",
       "      <th>corp_len_median</th>\n",
       "      <th>autorActivity</th>\n",
       "      <th>pubLast6months</th>\n",
       "      <th>Topic</th>\n",
       "    </tr>\n",
       "    <tr>\n",
       "      <th>Author ID</th>\n",
       "      <th></th>\n",
       "      <th></th>\n",
       "      <th></th>\n",
       "      <th></th>\n",
       "      <th></th>\n",
       "      <th></th>\n",
       "      <th></th>\n",
       "      <th></th>\n",
       "      <th></th>\n",
       "      <th></th>\n",
       "    </tr>\n",
       "  </thead>\n",
       "  <tbody>\n",
       "    <tr>\n",
       "      <th>106</th>\n",
       "      <td>4.067162</td>\n",
       "      <td>5.650984</td>\n",
       "      <td>4</td>\n",
       "      <td>4</td>\n",
       "      <td>62.0</td>\n",
       "      <td>6.0</td>\n",
       "      <td>269.5</td>\n",
       "      <td>68.0</td>\n",
       "      <td>0.0</td>\n",
       "      <td>\"site\", \"user\", \"company\", \"video\", \"new\", \"sa...</td>\n",
       "    </tr>\n",
       "  </tbody>\n",
       "</table>\n",
       "</div>"
      ],
      "text/plain": [
       "           wordsNumNoStop  wordsNum  MEIBI  MEIBIX  commentsTotal_median  \\\n",
       "Author ID                                                                  \n",
       "106              4.067162  5.650984      4       4                  62.0   \n",
       "\n",
       "           links_median  corp_len_median  autorActivity  pubLast6months  \\\n",
       "Author ID                                                                 \n",
       "106                 6.0            269.5           68.0             0.0   \n",
       "\n",
       "                                                       Topic  \n",
       "Author ID                                                     \n",
       "106        \"site\", \"user\", \"company\", \"video\", \"new\", \"sa...  "
      ]
     },
     "execution_count": 480,
     "metadata": {},
     "output_type": "execute_result"
    }
   ],
   "source": [
    "# merge all files \n",
    "df = pd.merge(df, df1, on='Author ID', how='inner')\n",
    "df = pd.merge(df, new_df, on='Author ID', how='inner')\n",
    "df = df.set_index('Author ID')\n",
    "df.sample()"
   ]
  },
  {
   "cell_type": "markdown",
   "metadata": {},
   "source": [
    "So, the data set for further analytics has been received and I'm moving on to the next step."
   ]
  },
  {
   "cell_type": "code",
   "execution_count": 481,
   "metadata": {},
   "outputs": [
    {
     "data": {
      "text/plain": [
       "<Axes: >"
      ]
     },
     "execution_count": 481,
     "metadata": {},
     "output_type": "execute_result"
    },
    {
     "data": {
      "image/png": "[encoded data removed]",
      "text/plain": [
       "<Figure size 504x504 with 2 Axes>"
      ]
     },
     "metadata": {},
     "output_type": "display_data"
    }
   ],
   "source": [
    "# correlation matrix between features\n",
    "fig_dims = (7, 7)\n",
    "fig, ax = plt.subplots(figsize=fig_dims)\n",
    "sns.heatmap(df.corr(), annot=True, cmap='viridis')"
   ]
  },
  {
   "cell_type": "code",
   "execution_count": 482,
   "metadata": {},
   "outputs": [
    {
     "data": {
      "text/html": [
       "<div>\n",
       "<style scoped>\n",
       "    .dataframe tbody tr th:only-of-type {\n",
       "        vertical-align: middle;\n",
       "    }\n",
       "\n",
       "    .dataframe tbody tr th {\n",
       "        vertical-align: top;\n",
       "    }\n",
       "\n",
       "    .dataframe thead th {\n",
       "        text-align: right;\n",
       "    }\n",
       "</style>\n",
       "<table border=\"1\" class=\"dataframe\">\n",
       "  <thead>\n",
       "    <tr style=\"text-align: right;\">\n",
       "      <th></th>\n",
       "      <th>count</th>\n",
       "      <th>mean</th>\n",
       "      <th>std</th>\n",
       "      <th>min</th>\n",
       "      <th>1%</th>\n",
       "      <th>25%</th>\n",
       "      <th>50%</th>\n",
       "      <th>75%</th>\n",
       "      <th>99%</th>\n",
       "      <th>max</th>\n",
       "    </tr>\n",
       "  </thead>\n",
       "  <tbody>\n",
       "    <tr>\n",
       "      <th>wordsNumNoStop</th>\n",
       "      <td>107.0</td>\n",
       "      <td>4.271868</td>\n",
       "      <td>0.294846</td>\n",
       "      <td>3.233319</td>\n",
       "      <td>3.628533</td>\n",
       "      <td>4.089780</td>\n",
       "      <td>4.234233</td>\n",
       "      <td>4.406861</td>\n",
       "      <td>5.037697</td>\n",
       "      <td>5.105769</td>\n",
       "    </tr>\n",
       "    <tr>\n",
       "      <th>wordsNum</th>\n",
       "      <td>107.0</td>\n",
       "      <td>5.820448</td>\n",
       "      <td>0.311643</td>\n",
       "      <td>4.368871</td>\n",
       "      <td>4.948170</td>\n",
       "      <td>5.656561</td>\n",
       "      <td>5.840711</td>\n",
       "      <td>5.990137</td>\n",
       "      <td>6.572308</td>\n",
       "      <td>6.637500</td>\n",
       "    </tr>\n",
       "    <tr>\n",
       "      <th>MEIBI</th>\n",
       "      <td>107.0</td>\n",
       "      <td>7.205607</td>\n",
       "      <td>15.200384</td>\n",
       "      <td>0.000000</td>\n",
       "      <td>0.000000</td>\n",
       "      <td>1.000000</td>\n",
       "      <td>2.000000</td>\n",
       "      <td>7.000000</td>\n",
       "      <td>65.400000</td>\n",
       "      <td>114.000000</td>\n",
       "    </tr>\n",
       "    <tr>\n",
       "      <th>MEIBIX</th>\n",
       "      <td>107.0</td>\n",
       "      <td>7.205607</td>\n",
       "      <td>15.194797</td>\n",
       "      <td>0.000000</td>\n",
       "      <td>0.000000</td>\n",
       "      <td>1.000000</td>\n",
       "      <td>2.000000</td>\n",
       "      <td>7.000000</td>\n",
       "      <td>64.520000</td>\n",
       "      <td>114.000000</td>\n",
       "    </tr>\n",
       "    <tr>\n",
       "      <th>commentsTotal_median</th>\n",
       "      <td>107.0</td>\n",
       "      <td>70.121495</td>\n",
       "      <td>57.407548</td>\n",
       "      <td>0.000000</td>\n",
       "      <td>1.530000</td>\n",
       "      <td>34.000000</td>\n",
       "      <td>53.500000</td>\n",
       "      <td>81.750000</td>\n",
       "      <td>240.200000</td>\n",
       "      <td>265.000000</td>\n",
       "    </tr>\n",
       "    <tr>\n",
       "      <th>links_median</th>\n",
       "      <td>107.0</td>\n",
       "      <td>6.803738</td>\n",
       "      <td>11.991301</td>\n",
       "      <td>0.000000</td>\n",
       "      <td>0.000000</td>\n",
       "      <td>2.000000</td>\n",
       "      <td>4.000000</td>\n",
       "      <td>6.500000</td>\n",
       "      <td>53.580000</td>\n",
       "      <td>98.000000</td>\n",
       "    </tr>\n",
       "    <tr>\n",
       "      <th>corp_len_median</th>\n",
       "      <td>107.0</td>\n",
       "      <td>470.056075</td>\n",
       "      <td>384.281929</td>\n",
       "      <td>50.000000</td>\n",
       "      <td>64.920000</td>\n",
       "      <td>265.500000</td>\n",
       "      <td>343.000000</td>\n",
       "      <td>483.750000</td>\n",
       "      <td>1589.720000</td>\n",
       "      <td>2469.000000</td>\n",
       "    </tr>\n",
       "    <tr>\n",
       "      <th>autorActivity</th>\n",
       "      <td>107.0</td>\n",
       "      <td>181.906542</td>\n",
       "      <td>612.560148</td>\n",
       "      <td>1.000000</td>\n",
       "      <td>1.000000</td>\n",
       "      <td>2.000000</td>\n",
       "      <td>6.000000</td>\n",
       "      <td>42.000000</td>\n",
       "      <td>2633.160000</td>\n",
       "      <td>4903.000000</td>\n",
       "    </tr>\n",
       "    <tr>\n",
       "      <th>pubLast6months</th>\n",
       "      <td>107.0</td>\n",
       "      <td>39.112150</td>\n",
       "      <td>129.221641</td>\n",
       "      <td>0.000000</td>\n",
       "      <td>0.000000</td>\n",
       "      <td>0.000000</td>\n",
       "      <td>1.000000</td>\n",
       "      <td>8.000000</td>\n",
       "      <td>663.980000</td>\n",
       "      <td>700.000000</td>\n",
       "    </tr>\n",
       "  </tbody>\n",
       "</table>\n",
       "</div>"
      ],
      "text/plain": [
       "                      count        mean         std        min         1%  \\\n",
       "wordsNumNoStop        107.0    4.271868    0.294846   3.233319   3.628533   \n",
       "wordsNum              107.0    5.820448    0.311643   4.368871   4.948170   \n",
       "MEIBI                 107.0    7.205607   15.200384   0.000000   0.000000   \n",
       "MEIBIX                107.0    7.205607   15.194797   0.000000   0.000000   \n",
       "commentsTotal_median  107.0   70.121495   57.407548   0.000000   1.530000   \n",
       "links_median          107.0    6.803738   11.991301   0.000000   0.000000   \n",
       "corp_len_median       107.0  470.056075  384.281929  50.000000  64.920000   \n",
       "autorActivity         107.0  181.906542  612.560148   1.000000   1.000000   \n",
       "pubLast6months        107.0   39.112150  129.221641   0.000000   0.000000   \n",
       "\n",
       "                             25%         50%         75%          99%  \\\n",
       "wordsNumNoStop          4.089780    4.234233    4.406861     5.037697   \n",
       "wordsNum                5.656561    5.840711    5.990137     6.572308   \n",
       "MEIBI                   1.000000    2.000000    7.000000    65.400000   \n",
       "MEIBIX                  1.000000    2.000000    7.000000    64.520000   \n",
       "commentsTotal_median   34.000000   53.500000   81.750000   240.200000   \n",
       "links_median            2.000000    4.000000    6.500000    53.580000   \n",
       "corp_len_median       265.500000  343.000000  483.750000  1589.720000   \n",
       "autorActivity           2.000000    6.000000   42.000000  2633.160000   \n",
       "pubLast6months          0.000000    1.000000    8.000000   663.980000   \n",
       "\n",
       "                              max  \n",
       "wordsNumNoStop           5.105769  \n",
       "wordsNum                 6.637500  \n",
       "MEIBI                  114.000000  \n",
       "MEIBIX                 114.000000  \n",
       "commentsTotal_median   265.000000  \n",
       "links_median            98.000000  \n",
       "corp_len_median       2469.000000  \n",
       "autorActivity         4903.000000  \n",
       "pubLast6months         700.000000  "
      ]
     },
     "execution_count": 482,
     "metadata": {},
     "output_type": "execute_result"
    }
   ],
   "source": [
    "df.describe(percentiles=[0.01, 0.25,0.5,0.75, 0.99]).T"
   ]
  },
  {
   "cell_type": "markdown",
   "metadata": {},
   "source": [
    "Since MEIBI and MEIBIX are multicollinear to each other, I decide not to use  MEIBIX in further analysis.\n",
    "\n",
    "Since wordsNumNoStop feature has low variability, I decided to exclude it from further analysis.\n"
   ]
  },
  {
   "cell_type": "code",
   "execution_count": 483,
   "metadata": {},
   "outputs": [],
   "source": [
    "X_numerics = df[['commentsTotal_median','links_median','corp_len_median','pubLast6months','MEIBI','autorActivity']]"
   ]
  },
  {
   "cell_type": "markdown",
   "metadata": {},
   "source": [
    "Next, I remove the outliers by cutting off the tails at the 99th percentile"
   ]
  },
  {
   "cell_type": "code",
   "execution_count": 484,
   "metadata": {},
   "outputs": [],
   "source": [
    "# remove outliers\n",
    "X_numerics = X_numerics[X_numerics.links_median<90]\n",
    "X_numerics = X_numerics[X_numerics.corp_len_median.between(100,1600)]\n",
    "X_numerics = X_numerics[X_numerics.MEIBI<100]\n"
   ]
  },
  {
   "cell_type": "code",
   "execution_count": 485,
   "metadata": {},
   "outputs": [
    {
     "data": {
      "image/png": "[encoded data removed]",
      "text/plain": [
       "<Figure size 432x288 with 2 Axes>"
      ]
     },
     "metadata": {},
     "output_type": "display_data"
    }
   ],
   "source": [
    "# number of clusters based on elbow method\n",
    "model = KMeans(random_state=2020)\n",
    "visualizer = KElbowVisualizer(model, k=(2,10))\n",
    "visualizer.fit(X_numerics)\n",
    "visualizer.show()\n",
    "plt.show()"
   ]
  },
  {
   "cell_type": "markdown",
   "metadata": {},
   "source": [
    "There I use the elbow method to determine the optimal number of clusters for KMeans.\n",
    "\n",
    "The algorithm works as follows: for each value of k (the number of clusters), the KMeans algorithm is run and the sum of the squared distances between each observation and its center of gravity is calculated. Then a curve is drawn on the graph showing the values of the sum of the squared distances depending on the number of clusters.\n",
    "\n",
    "The idea of the elbow method is to find the value of k after which the sum of the squared distances stops decreasing significantly when new clusters are added. On the graph, this may look like an elbow (elbow), where the optimal number of clusters is at the \"elbow\" point.\n",
    "\n",
    "The code uses the Yellowbrick library to visualize the process and plots the sum of squared distances versus the number of clusters. The user is given the opportunity to select a range of k values for plotting."
   ]
  },
  {
   "cell_type": "markdown",
   "metadata": {},
   "source": [
    "KMeans is one of the most common clustering algorithms that allows you to group observations into k clusters based on their similarity. The number of clusters is determined in advance, and the algorithm iteratively minimizes the sum of squared distances between each observation and the cluster centroid to determine the optimal distribution of clusters. KMeans requires numerical features and assumes that the clusters are spherical and have the same variance."
   ]
  },
  {
   "cell_type": "code",
   "execution_count": 486,
   "metadata": {},
   "outputs": [
    {
     "data": {
      "text/html": [
       "<div>\n",
       "<style scoped>\n",
       "    .dataframe tbody tr th:only-of-type {\n",
       "        vertical-align: middle;\n",
       "    }\n",
       "\n",
       "    .dataframe tbody tr th {\n",
       "        vertical-align: top;\n",
       "    }\n",
       "\n",
       "    .dataframe thead th {\n",
       "        text-align: right;\n",
       "    }\n",
       "</style>\n",
       "<table border=\"1\" class=\"dataframe\">\n",
       "  <thead>\n",
       "    <tr style=\"text-align: right;\">\n",
       "      <th></th>\n",
       "      <th>commentsTotal_median</th>\n",
       "      <th>links_median</th>\n",
       "      <th>corp_len_median</th>\n",
       "      <th>pubLast6months</th>\n",
       "      <th>MEIBI</th>\n",
       "      <th>autorActivity</th>\n",
       "      <th>Cluster</th>\n",
       "    </tr>\n",
       "    <tr>\n",
       "      <th>Author ID</th>\n",
       "      <th></th>\n",
       "      <th></th>\n",
       "      <th></th>\n",
       "      <th></th>\n",
       "      <th></th>\n",
       "      <th></th>\n",
       "      <th></th>\n",
       "    </tr>\n",
       "  </thead>\n",
       "  <tbody>\n",
       "    <tr>\n",
       "      <th>1</th>\n",
       "      <td>56.0</td>\n",
       "      <td>5.0</td>\n",
       "      <td>333.0</td>\n",
       "      <td>469.0</td>\n",
       "      <td>43</td>\n",
       "      <td>1821.0</td>\n",
       "      <td>1</td>\n",
       "    </tr>\n",
       "    <tr>\n",
       "      <th>3</th>\n",
       "      <td>34.0</td>\n",
       "      <td>7.0</td>\n",
       "      <td>317.0</td>\n",
       "      <td>468.0</td>\n",
       "      <td>56</td>\n",
       "      <td>2685.0</td>\n",
       "      <td>1</td>\n",
       "    </tr>\n",
       "    <tr>\n",
       "      <th>4</th>\n",
       "      <td>54.0</td>\n",
       "      <td>2.0</td>\n",
       "      <td>187.0</td>\n",
       "      <td>158.0</td>\n",
       "      <td>22</td>\n",
       "      <td>698.0</td>\n",
       "      <td>0</td>\n",
       "    </tr>\n",
       "    <tr>\n",
       "      <th>5</th>\n",
       "      <td>83.0</td>\n",
       "      <td>6.0</td>\n",
       "      <td>357.0</td>\n",
       "      <td>700.0</td>\n",
       "      <td>66</td>\n",
       "      <td>1435.0</td>\n",
       "      <td>1</td>\n",
       "    </tr>\n",
       "    <tr>\n",
       "      <th>6</th>\n",
       "      <td>74.5</td>\n",
       "      <td>4.0</td>\n",
       "      <td>427.5</td>\n",
       "      <td>61.0</td>\n",
       "      <td>16</td>\n",
       "      <td>148.0</td>\n",
       "      <td>0</td>\n",
       "    </tr>\n",
       "  </tbody>\n",
       "</table>\n",
       "</div>"
      ],
      "text/plain": [
       "           commentsTotal_median  links_median  corp_len_median  \\\n",
       "Author ID                                                        \n",
       "1                          56.0           5.0            333.0   \n",
       "3                          34.0           7.0            317.0   \n",
       "4                          54.0           2.0            187.0   \n",
       "5                          83.0           6.0            357.0   \n",
       "6                          74.5           4.0            427.5   \n",
       "\n",
       "           pubLast6months  MEIBI  autorActivity Cluster  \n",
       "Author ID                                                \n",
       "1                   469.0     43         1821.0       1  \n",
       "3                   468.0     56         2685.0       1  \n",
       "4                   158.0     22          698.0       0  \n",
       "5                   700.0     66         1435.0       1  \n",
       "6                    61.0     16          148.0       0  "
      ]
     },
     "execution_count": 486,
     "metadata": {},
     "output_type": "execute_result"
    }
   ],
   "source": [
    "# Create cluster feature\n",
    "kmeans = KMeans(n_clusters=3) # the optimal number of clusters that we obtained in the previous step\n",
    "X_numerics[\"Cluster\"] = kmeans.fit_predict(X_numerics)\n",
    "X_numerics[\"Cluster\"] = X_numerics[\"Cluster\"].astype(\"category\")\n",
    "X_numerics.head()"
   ]
  },
  {
   "cell_type": "markdown",
   "metadata": {},
   "source": [
    "Next, I turn to the visualization of the obtained values."
   ]
  },
  {
   "cell_type": "code",
   "execution_count": 487,
   "metadata": {},
   "outputs": [
    {
     "data": {
      "image/png": "[encoded data removed]",
      "text/plain": [
       "<Figure size 1080x720 with 6 Axes>"
      ]
     },
     "metadata": {},
     "output_type": "display_data"
    }
   ],
   "source": [
    "\n",
    "\n",
    "# set the list of features to be displayed\n",
    "features = ['commentsTotal_median','links_median','corp_len_median','pubLast6months','MEIBI','autorActivity']\n",
    "\n",
    "# set the number of rows and columns to display graphs\n",
    "rows = 2\n",
    "cols = 3\n",
    "\n",
    "# create subplots\n",
    "fig, axes = plt.subplots(nrows=rows, ncols=cols, figsize=(15,10))\n",
    "\n",
    "# for each feature, we build a boxplot by cluster number\n",
    "for i, feature in enumerate(features):\n",
    "    row = i // cols\n",
    "    col = i % cols\n",
    "    ax = axes[row][col]\n",
    "    sns.boxplot(x='Cluster', y=feature, data=X_numerics, ax=ax)\n",
    "    ax.set_title(feature)\n",
    "    \n",
    "plt.tight_layout()\n",
    "plt.show()"
   ]
  },
  {
   "cell_type": "markdown",
   "metadata": {},
   "source": [
    "Conclusions that suggest themselves:\n",
    "\n",
    "- Features \"pubLast6months\", \"MEIBI\", \"autorActivity\" have the same value and reflect the degree of the Author's activity in terms of the number of posts written. The most \"productive\" authors are in subgroup 1 of the cluster. And if the criterion for the client when choosing an Author is the number of posts per unit of time, then based on the received picture, I will recommend to him the Authors of subgroup 1.\n",
    "\n",
    "- From the first three horizontal charts, we can conclude that the Authors of subgroup 0 write the longest posts and collect the most links and comments. If the Client, when choosing an Author, was guided by obtaining the maximum number of links and comments, I would recommend him to contact the Authors from subgroup 0.\n",
    "\n",
    "- However, as can be seen from diagrams 4 and 6, those who have the most links and comments have the least activity in terms of the number of posts per unit of time. And we will need to be creative in choosing the golden mean."
   ]
  },
  {
   "cell_type": "markdown",
   "metadata": {},
   "source": [
    "The longer text -  the higher number of comments on posts:"
   ]
  },
  {
   "cell_type": "code",
   "execution_count": 488,
   "metadata": {},
   "outputs": [
    {
     "data": {
      "text/plain": [
       "<seaborn.axisgrid.FacetGrid at 0x202219438e0>"
      ]
     },
     "execution_count": 488,
     "metadata": {},
     "output_type": "execute_result"
    },
    {
     "data": {
      "image/png": "[encoded data removed]",
      "text/plain": [
       "<Figure size 478.925x432 with 1 Axes>"
      ]
     },
     "metadata": {},
     "output_type": "display_data"
    }
   ],
   "source": [
    "sns.relplot(\n",
    "    x=\"commentsTotal_median\", y=\"corp_len_median\", hue=\"Cluster\", data=X_numerics, height=6,)"
   ]
  },
  {
   "cell_type": "markdown",
   "metadata": {},
   "source": [
    "Active authors (who write a lot of texts) do not write long posts:"
   ]
  },
  {
   "cell_type": "code",
   "execution_count": 489,
   "metadata": {},
   "outputs": [
    {
     "data": {
      "text/plain": [
       "<seaborn.axisgrid.FacetGrid at 0x2022226f640>"
      ]
     },
     "execution_count": 489,
     "metadata": {},
     "output_type": "execute_result"
    },
    {
     "data": {
      "image/png": "[encoded data removed]",
      "text/plain": [
       "<Figure size 478.925x432 with 1 Axes>"
      ]
     },
     "metadata": {},
     "output_type": "display_data"
    }
   ],
   "source": [
    "sns.relplot(x=\"autorActivity\", y=\"corp_len_median\", hue=\"Cluster\", data=X_numerics, height=6,)"
   ]
  },
  {
   "cell_type": "markdown",
   "metadata": {},
   "source": [
    "The distribution of Authors by clusters is as follows:"
   ]
  },
  {
   "cell_type": "code",
   "execution_count": 490,
   "metadata": {},
   "outputs": [
    {
     "data": {
      "image/png": "[encoded data removed]",
      "text/plain": [
       "<Figure size 432x288 with 1 Axes>"
      ]
     },
     "metadata": {},
     "output_type": "display_data"
    }
   ],
   "source": [
    "cluster_counts = X_numerics['Cluster'].value_counts().sort_index()\n",
    "plt.bar(cluster_counts.index, cluster_counts.values)\n",
    "plt.xlabel('Cluster')\n",
    "plt.ylabel('Number of Authors')\n",
    "plt.title('Observations per Cluster')\n",
    "plt.show()"
   ]
  },
  {
   "cell_type": "markdown",
   "metadata": {},
   "source": [
    "Conclusion: depending on the goal of the client, I will recommend authors from subgroup 0 or 1. We also have a Topic function in the df dataset, for which I can make additional recommendations for Authors depending on their area of interest."
   ]
  }
 ],
 "metadata": {
  "interpreter": {
   "hash": "004de6046f1b3d314f33fdb43a2dc798b2646e5600efd8df5066c8b63a00ff6d"
  },
  "kernelspec": {
   "display_name": "Python 3.8.10 64-bit",
   "language": "python",
   "name": "python3"
  },
  "language_info": {
   "codemirror_mode": {
    "name": "ipython",
    "version": 3
   },
   "file_extension": ".py",
   "mimetype": "text/x-python",
   "name": "python",
   "nbconvert_exporter": "python",
   "pygments_lexer": "ipython3",
   "version": "3.8.10"
  },
  "orig_nbformat": 4
 },
 "nbformat": 4,
 "nbformat_minor": 2
}
